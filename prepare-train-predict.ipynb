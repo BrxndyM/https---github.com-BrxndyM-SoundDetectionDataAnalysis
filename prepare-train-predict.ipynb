{
 "cells": [
  {
   "attachments": {},
   "cell_type": "markdown",
   "metadata": {},
   "source": [
    "## Dataset Preparation\n",
    "I am about to extract features from the dataset sound using MFCC, and then fit it in a json file,"
   ]
  },
  {
   "cell_type": "code",
   "execution_count": 10,
   "metadata": {},
   "outputs": [
    {
     "data": {
      "text/plain": [
       "22050"
      ]
     },
     "execution_count": 10,
     "metadata": {},
     "output_type": "execute_result"
    }
   ],
   "source": [
    "#import dataset related packages\n",
    "\n",
    "import librosa\n",
    "import os\n",
    "import json\n",
    "\n",
    "panjang_sampel = 22050*1 # sampling rate, remember nyquist theorem (default is 44100 hz so half of it?) * 1 means one second\n",
    "panjang_sampel"
   ]
  },
  {
   "cell_type": "code",
   "execution_count": 11,
   "metadata": {},
   "outputs": [],
   "source": [
    "def preprocess_dataset(dataset_path, json_path, num_mfcc=13, n_fft=2048, hop_length=512):\n",
    "\n",
    "    data = {\n",
    "        \"mapping\": [],\n",
    "        \"labels\": [],\n",
    "        \"MFCCs\": [],\n",
    "        \"files\": []\n",
    "    }\n",
    "    count=0\n",
    "\n",
    "    # loop through all sub-dirs\n",
    "    for i, (dirpath, dirnames, filenames) in enumerate(os.walk(dataset_path)):\n",
    "\n",
    "        # ensure we're at sub-folder level\n",
    "        if dirpath is not dataset_path:\n",
    "\n",
    "            # save label (i.e., sub-folder name) in the mapping\n",
    "            label = dirpath.split(\"/\")[-1]\n",
    "            data[\"mapping\"].append(label)\n",
    "            print(\"\\nProcessing: '{}'\".format(label))\n",
    "\n",
    "            # process all audio files in sub-dir and store MFCCs\n",
    "            for f in filenames:\n",
    "                file_path = os.path.join(dirpath, f)\n",
    "\n",
    "                # load audio file and slice it to ensure length consistency among different files\n",
    "                signal, sample_rate = librosa.load(file_path)\n",
    "            \n",
    "                # drop audio files with less than pre-decided number of samples\n",
    "                if len(signal) >= panjang_sampel:\n",
    "\n",
    "                    # ensure consistency of the length of the signal\n",
    "                    signal = signal[:panjang_sampel]\n",
    "\n",
    "                    # extract MFCCs\n",
    "                    MFCCs = librosa.feature.mfcc(y=signal,sr=sample_rate,n_mfcc=40)\n",
    "\n",
    "                    # store data for analysed track\n",
    "                    count=count+1\n",
    "                    data[\"MFCCs\"].append(MFCCs.T.tolist())\n",
    "                    data[\"labels\"].append(i-1)\n",
    "                    data[\"files\"].append(file_path)\n",
    "                    print(str(count)+\" {}: {}\".format(file_path, i-1))\n",
    "\n",
    "    # save data in json file\n",
    "    with open(json_path, \"w\") as fp:\n",
    "        json.dump(data, fp, indent=4)\n"
   ]
  },
  {
   "cell_type": "code",
   "execution_count": 12,
   "metadata": {},
   "outputs": [
    {
     "name": "stdout",
     "output_type": "stream",
     "text": [
      "\n",
      "Processing: 'domestic'\n",
      "1 dataset/train/domestic\\audio 101.ogg: 0\n",
      "2 dataset/train/domestic\\audio 103.ogg: 0\n",
      "3 dataset/train/domestic\\audio 104.ogg: 0\n",
      "4 dataset/train/domestic\\audio 105.ogg: 0\n",
      "5 dataset/train/domestic\\audio 106.ogg: 0\n",
      "6 dataset/train/domestic\\audio 107.ogg: 0\n",
      "7 dataset/train/domestic\\audio 109.ogg: 0\n",
      "8 dataset/train/domestic\\audio 110.ogg: 0\n",
      "9 dataset/train/domestic\\audio 111.ogg: 0\n",
      "10 dataset/train/domestic\\audio 112.ogg: 0\n",
      "11 dataset/train/domestic\\audio 118.ogg: 0\n",
      "12 dataset/train/domestic\\audio 120.ogg: 0\n",
      "13 dataset/train/domestic\\audio 19.ogg: 0\n",
      "14 dataset/train/domestic\\audio 21.ogg: 0\n",
      "15 dataset/train/domestic\\audio 23.ogg: 0\n",
      "16 dataset/train/domestic\\audio 24.ogg: 0\n",
      "17 dataset/train/domestic\\audio 25.ogg: 0\n",
      "18 dataset/train/domestic\\audio 26.ogg: 0\n",
      "19 dataset/train/domestic\\audio 27.ogg: 0\n",
      "20 dataset/train/domestic\\audio 29.ogg: 0\n",
      "21 dataset/train/domestic\\audio 32.ogg: 0\n",
      "22 dataset/train/domestic\\audio 38.ogg: 0\n",
      "23 dataset/train/domestic\\audio 59.ogg: 0\n",
      "24 dataset/train/domestic\\audio 61.ogg: 0\n",
      "25 dataset/train/domestic\\audio 63.ogg: 0\n",
      "26 dataset/train/domestic\\audio 64.ogg: 0\n",
      "27 dataset/train/domestic\\audio 65.ogg: 0\n",
      "28 dataset/train/domestic\\audio 66.ogg: 0\n",
      "29 dataset/train/domestic\\audio 67.ogg: 0\n",
      "30 dataset/train/domestic\\audio 69.ogg: 0\n",
      "31 dataset/train/domestic\\audio 71.ogg: 0\n",
      "32 dataset/train/domestic\\audio 78.ogg: 0\n",
      "33 dataset/train/domestic\\audio 80.ogg: 0\n",
      "34 dataset/train/domestic\\audio 84.ogg: 0\n",
      "35 dataset/train/domestic\\audio 85.ogg: 0\n",
      "36 dataset/train/domestic\\audio 99.ogg: 0\n",
      "\n",
      "Processing: 'physical'\n",
      "37 dataset/train/physical\\AAAGH1.wav: 1\n",
      "38 dataset/train/physical\\audio 102.ogg: 1\n",
      "39 dataset/train/physical\\audio 108.ogg: 1\n",
      "40 dataset/train/physical\\audio 113.ogg: 1\n",
      "41 dataset/train/physical\\audio 115.ogg: 1\n",
      "42 dataset/train/physical\\audio 116.ogg: 1\n",
      "43 dataset/train/physical\\audio 117.ogg: 1\n",
      "44 dataset/train/physical\\audio 13.ogg: 1\n",
      "45 dataset/train/physical\\audio 15.ogg: 1\n",
      "46 dataset/train/physical\\audio 16.ogg: 1\n",
      "47 dataset/train/physical\\audio 28.ogg: 1\n",
      "48 dataset/train/physical\\audio 3.ogg: 1\n",
      "49 dataset/train/physical\\audio 33.ogg: 1\n",
      "50 dataset/train/physical\\audio 35.ogg: 1\n",
      "51 dataset/train/physical\\audio 37.ogg: 1\n",
      "52 dataset/train/physical\\audio 4.ogg: 1\n",
      "53 dataset/train/physical\\audio 45.ogg: 1\n",
      "54 dataset/train/physical\\audio 5.ogg: 1\n",
      "55 dataset/train/physical\\audio 51.ogg: 1\n",
      "56 dataset/train/physical\\audio 52.ogg: 1\n",
      "57 dataset/train/physical\\audio 56.ogg: 1\n",
      "58 dataset/train/physical\\audio 6.ogg: 1\n",
      "59 dataset/train/physical\\audio 68.ogg: 1\n",
      "60 dataset/train/physical\\audio 7.ogg: 1\n",
      "61 dataset/train/physical\\audio 73.ogg: 1\n",
      "62 dataset/train/physical\\audio 75.ogg: 1\n",
      "63 dataset/train/physical\\audio 76.ogg: 1\n",
      "64 dataset/train/physical\\audio 77.ogg: 1\n",
      "65 dataset/train/physical\\audio 84.ogg: 1\n",
      "66 dataset/train/physical\\audio 85.ogg: 1\n",
      "67 dataset/train/physical\\audio 87.ogg: 1\n",
      "68 dataset/train/physical\\audio 89.ogg: 1\n",
      "69 dataset/train/physical\\audio 91.ogg: 1\n",
      "70 dataset/train/physical\\audio 92.ogg: 1\n",
      "71 dataset/train/physical\\audio 96.ogg: 1\n",
      "72 dataset/train/physical\\audio 98.ogg: 1\n",
      "73 dataset/train/physical\\girl_scream-6465.mp3: 1\n",
      "74 dataset/train/physical\\male-scream-123080.mp3: 1\n",
      "75 dataset/train/physical\\man-scream-01.wav: 1\n",
      "76 dataset/train/physical\\man-scream-02.wav: 1\n",
      "77 dataset/train/physical\\man-scream-03.wav: 1\n",
      "78 dataset/train/physical\\man-scream-ahh-01.wav: 1\n",
      "79 dataset/train/physical\\man-screaming-01.wav: 1\n",
      "80 dataset/train/physical\\scream-121575.mp3: 1\n",
      "81 dataset/train/physical\\scream-with-echo-46585.mp3: 1\n",
      "82 dataset/train/physical\\woman-scream-01.wav: 1\n",
      "83 dataset/train/physical\\woman-scream-02.wav: 1\n"
     ]
    }
   ],
   "source": [
    "#Invoking the method to process the data for training\n",
    "preprocess_dataset('dataset/train/', 'mixedformat.json')"
   ]
  },
  {
   "attachments": {},
   "cell_type": "markdown",
   "metadata": {},
   "source": [
    "## Calling the json and training the model\n"
   ]
  },
  {
   "cell_type": "code",
   "execution_count": 13,
   "metadata": {},
   "outputs": [
    {
     "name": "stdout",
     "output_type": "stream",
     "text": [
      "Requirement already satisfied: keras-visualizer in c:\\users\\brandy\\appdata\\local\\packages\\pythonsoftwarefoundation.python.3.11_qbz5n2kfra8p0\\localcache\\local-packages\\python311\\site-packages (3.1.2)\n",
      "Requirement already satisfied: graphviz in c:\\users\\brandy\\appdata\\local\\packages\\pythonsoftwarefoundation.python.3.11_qbz5n2kfra8p0\\localcache\\local-packages\\python311\\site-packages (from keras-visualizer) (0.20.1)\n"
     ]
    },
    {
     "ename": "ModuleNotFoundError",
     "evalue": "No module named 'tensorflow.python'",
     "output_type": "error",
     "traceback": [
      "\u001b[1;31m---------------------------------------------------------------------------\u001b[0m",
      "\u001b[1;31mModuleNotFoundError\u001b[0m                       Traceback (most recent call last)",
      "Cell \u001b[1;32mIn[13], line 6\u001b[0m\n\u001b[0;32m      3\u001b[0m get_ipython()\u001b[39m.\u001b[39msystem(\u001b[39m'\u001b[39m\u001b[39mpip3 install keras-visualizer\u001b[39m\u001b[39m'\u001b[39m)\n\u001b[0;32m      5\u001b[0m \u001b[39mimport\u001b[39;00m \u001b[39mnumpy\u001b[39;00m \u001b[39mas\u001b[39;00m \u001b[39mnp\u001b[39;00m\n\u001b[1;32m----> 6\u001b[0m \u001b[39mimport\u001b[39;00m \u001b[39mtensorflow\u001b[39;00m \u001b[39mas\u001b[39;00m \u001b[39mtf\u001b[39;00m\n\u001b[0;32m      7\u001b[0m \u001b[39mimport\u001b[39;00m \u001b[39mmatplotlib\u001b[39;00m\u001b[39m.\u001b[39;00m\u001b[39mpyplot\u001b[39;00m \u001b[39mas\u001b[39;00m \u001b[39mplt\u001b[39;00m\n\u001b[0;32m      8\u001b[0m \u001b[39mfrom\u001b[39;00m \u001b[39msklearn\u001b[39;00m\u001b[39m.\u001b[39;00m\u001b[39mmodel_selection\u001b[39;00m \u001b[39mimport\u001b[39;00m train_test_split\n",
      "File \u001b[1;32m~\\AppData\\Local\\Packages\\PythonSoftwareFoundation.Python.3.11_qbz5n2kfra8p0\\LocalCache\\local-packages\\Python311\\site-packages\\tensorflow\\__init__.py:37\u001b[0m\n\u001b[0;32m     34\u001b[0m \u001b[39mimport\u001b[39;00m \u001b[39msys\u001b[39;00m \u001b[39mas\u001b[39;00m \u001b[39m_sys\u001b[39;00m\n\u001b[0;32m     35\u001b[0m \u001b[39mimport\u001b[39;00m \u001b[39mtyping\u001b[39;00m \u001b[39mas\u001b[39;00m \u001b[39m_typing\u001b[39;00m\n\u001b[1;32m---> 37\u001b[0m \u001b[39mfrom\u001b[39;00m \u001b[39mtensorflow\u001b[39;00m\u001b[39m.\u001b[39;00m\u001b[39mpython\u001b[39;00m\u001b[39m.\u001b[39;00m\u001b[39mtools\u001b[39;00m \u001b[39mimport\u001b[39;00m module_util \u001b[39mas\u001b[39;00m _module_util\n\u001b[0;32m     38\u001b[0m \u001b[39mfrom\u001b[39;00m \u001b[39mtensorflow\u001b[39;00m\u001b[39m.\u001b[39;00m\u001b[39mpython\u001b[39;00m\u001b[39m.\u001b[39;00m\u001b[39mutil\u001b[39;00m\u001b[39m.\u001b[39;00m\u001b[39mlazy_loader\u001b[39;00m \u001b[39mimport\u001b[39;00m LazyLoader \u001b[39mas\u001b[39;00m _LazyLoader\n\u001b[0;32m     40\u001b[0m \u001b[39m# Make sure code inside the TensorFlow codebase can use tf2.enabled() at import.\u001b[39;00m\n",
      "\u001b[1;31mModuleNotFoundError\u001b[0m: No module named 'tensorflow.python'"
     ]
    }
   ],
   "source": [
    "#import training related packages\n",
    "\n",
    "!pip3 install keras-visualizer\n",
    "\n",
    "import numpy as np\n",
    "import tensorflow as tf\n",
    "import matplotlib.pyplot as plt\n",
    "from sklearn.model_selection import train_test_split\n",
    "from keras_visualizer import visualizer\n",
    "\n",
    "DATA_PATH = \"mixedformat.json\"\n",
    "SAVED_MODEL_PATH = \"training_mix_reajusted_input.h5\"\n",
    "EPOCHS = 100\n",
    "BATCH_SIZE = 8\n",
    "PATIENCE = 10\n",
    "LEARNING_RATE = 0.0001"
   ]
  },
  {
   "cell_type": "code",
   "execution_count": 11,
   "metadata": {},
   "outputs": [],
   "source": [
    "def prepare_dataset(data_path, test_size=0.1, validation_size=0.1):\n",
    "    # load dataset\n",
    "    X, y = load_data(data_path)\n",
    "\n",
    "    # create train, validation, test split\n",
    "    X_train, X_test, y_train, y_test = train_test_split(X, y, test_size=test_size)\n",
    "    X_train, X_validation, y_train, y_validation = train_test_split(X_train, y_train, test_size=validation_size)\n",
    "\n",
    "    # add an axis to nd array\n",
    "    X_train = X_train[..., np.newaxis]\n",
    "    X_test = X_test[..., np.newaxis]\n",
    "    X_validation = X_validation[..., np.newaxis]\n",
    "\n",
    "    return X_train, y_train, X_validation, y_validation, X_test, y_test"
   ]
  },
  {
   "cell_type": "code",
   "execution_count": 13,
   "metadata": {},
   "outputs": [],
   "source": [
    "def load_data(data_path):\n",
    "    with open(data_path, \"r\") as fp:\n",
    "        data = json.load(fp)\n",
    "\n",
    "    X = np.array(data[\"MFCCs\"])\n",
    "    y = np.array(data[\"labels\"])\n",
    "    print(\"Training sets loaded!\")\n",
    "    return X, y"
   ]
  },
  {
   "cell_type": "code",
   "execution_count": 14,
   "metadata": {},
   "outputs": [],
   "source": [
    "def build_model(input_shape, loss=\"sparse_categorical_crossentropy\", learning_rate=0.0001):\n",
    "    \n",
    "    # build network architecture using convolutional layers\n",
    "    model = tf.keras.models.Sequential()\n",
    "\n",
    "    # 1st conv layer\n",
    "    model.add(tf.keras.layers.Conv2D(64, (3, 3), activation='relu', input_shape=input_shape,\n",
    "                                     kernel_regularizer=tf.keras.regularizers.l1_l2(l1=0.0001, l2=0.00001)))\n",
    "    model.add(tf.keras.layers.BatchNormalization())\n",
    "    model.add(tf.keras.layers.MaxPooling2D((3, 3), strides=(2,2), padding='same'))\n",
    "\n",
    "    tf.keras.layers.Dropout(0.5)\n",
    "\n",
    "    # 2nd conv layer\n",
    "    model.add(tf.keras.layers.Conv2D(32, (3, 3), activation='relu',\n",
    "                                     kernel_regularizer=tf.keras.regularizers.l1_l2(l1=0.0001, l2=0.00001)))\n",
    "    model.add(tf.keras.layers.BatchNormalization())\n",
    "    model.add(tf.keras.layers.MaxPooling2D((3, 3), strides=(2,2), padding='same'))\n",
    "\n",
    "    tf.keras.layers.Dropout(0.2)\n",
    "\n",
    "    # 3rd conv layer\n",
    "    model.add(tf.keras.layers.Conv2D(32, (2, 2), activation='relu',\n",
    "                                     kernel_regularizer=tf.keras.regularizers.l1_l2(l1=0.0001, l2=0.00001)))\n",
    "    model.add(tf.keras.layers.BatchNormalization())\n",
    "    model.add(tf.keras.layers.MaxPooling2D((2, 2), strides=(2,2), padding='same'))\n",
    "\n",
    "    tf.keras.layers.Dropout(0.2)\n",
    "\n",
    "    # flatten output and feed into dense layer\n",
    "    model.add(tf.keras.layers.Flatten())\n",
    "    model.add(tf.keras.layers.Dense(64, activation='relu'))\n",
    "    tf.keras.layers.Dropout(0.3)\n",
    "\n",
    "    # softmax output layer\n",
    "    model.add(tf.keras.layers.Dense(4, activation='softmax'))\n",
    "\n",
    "    optimiser = tf.optimizers.Adam(learning_rate=learning_rate)\n",
    "\n",
    "    # compile model\n",
    "    model.compile(optimizer=optimiser,\n",
    "                  loss=loss,\n",
    "                  metrics=[\"accuracy\"])\n",
    "\n",
    "    # print model parameters on console\n",
    "    model.summary()\n",
    "\n",
    "    return model"
   ]
  },
  {
   "cell_type": "code",
   "execution_count": 15,
   "metadata": {},
   "outputs": [],
   "source": [
    "def train(model, epochs, batch_size, patience, X_train, y_train, X_validation, y_validation):\n",
    "    \n",
    "    earlystop_callback = tf.keras.callbacks.EarlyStopping(monitor=\"val_accuracy\", min_delta=0.001, patience=patience)\n",
    "\n",
    "    # train model\n",
    "    history = model.fit(X_train,\n",
    "                        y_train,\n",
    "                        epochs=epochs,\n",
    "                        batch_size=batch_size,\n",
    "                        validation_data=(X_validation, y_validation),\n",
    "                        callbacks=[earlystop_callback])\n",
    "    return history"
   ]
  },
  {
   "cell_type": "code",
   "execution_count": 16,
   "metadata": {},
   "outputs": [],
   "source": [
    "def plot_history(history):\n",
    "    \n",
    "    fig, axs = plt.subplots(2)\n",
    "\n",
    "    plt.figure(figsize=(5,10))\n",
    "\n",
    "    # create accuracy subplot\n",
    "    axs[0].plot(history.history[\"accuracy\"], label=\"accuracy\")\n",
    "    axs[0].plot(history.history['val_accuracy'], label=\"val_accuracy\")\n",
    "    axs[0].set_ylabel(\"Accuracy\")\n",
    "    axs[0].legend(loc=\"lower right\")\n",
    "    axs[0].set_title(\"Accuracy evaluation\")\n",
    "\n",
    "    # create loss subplot\n",
    "    axs[1].plot(history.history[\"loss\"], label=\"loss\")\n",
    "    axs[1].plot(history.history['val_loss'], label=\"val_loss\")\n",
    "    axs[1].set_xlabel(\"Epoch\")\n",
    "    axs[1].set_ylabel(\"Loss\")\n",
    "    axs[1].legend(loc=\"upper right\")\n",
    "    axs[1].set_title(\"Loss evaluation\")\n",
    "\n",
    "    \n",
    "\n",
    "    plt.show()"
   ]
  },
  {
   "cell_type": "code",
   "execution_count": 17,
   "metadata": {},
   "outputs": [
    {
     "name": "stdout",
     "output_type": "stream",
     "text": [
      "Training sets loaded!\n"
     ]
    }
   ],
   "source": [
    "X_train, y_train, X_validation, y_validation, X_test, y_test = prepare_dataset(DATA_PATH)"
   ]
  },
  {
   "cell_type": "code",
   "execution_count": 18,
   "metadata": {},
   "outputs": [
    {
     "name": "stdout",
     "output_type": "stream",
     "text": [
      "Model: \"sequential\"\n",
      "_________________________________________________________________\n",
      " Layer (type)                Output Shape              Param #   \n",
      "=================================================================\n",
      " conv2d (Conv2D)             (None, 42, 38, 64)        640       \n",
      "                                                                 \n",
      " batch_normalization (BatchN  (None, 42, 38, 64)       256       \n",
      " ormalization)                                                   \n",
      "                                                                 \n",
      " max_pooling2d (MaxPooling2D  (None, 21, 19, 64)       0         \n",
      " )                                                               \n",
      "                                                                 \n",
      " conv2d_1 (Conv2D)           (None, 19, 17, 32)        18464     \n",
      "                                                                 \n",
      " batch_normalization_1 (Batc  (None, 19, 17, 32)       128       \n",
      " hNormalization)                                                 \n",
      "                                                                 \n",
      " max_pooling2d_1 (MaxPooling  (None, 10, 9, 32)        0         \n",
      " 2D)                                                             \n",
      "                                                                 \n",
      " conv2d_2 (Conv2D)           (None, 9, 8, 32)          4128      \n",
      "                                                                 \n",
      " batch_normalization_2 (Batc  (None, 9, 8, 32)         128       \n",
      " hNormalization)                                                 \n",
      "                                                                 \n",
      " max_pooling2d_2 (MaxPooling  (None, 5, 4, 32)         0         \n",
      " 2D)                                                             \n",
      "                                                                 \n",
      " flatten (Flatten)           (None, 640)               0         \n",
      "                                                                 \n",
      " dense (Dense)               (None, 64)                41024     \n",
      "                                                                 \n",
      " dense_1 (Dense)             (None, 4)                 260       \n",
      "                                                                 \n",
      "=================================================================\n",
      "Total params: 65,028\n",
      "Trainable params: 64,772\n",
      "Non-trainable params: 256\n",
      "_________________________________________________________________\n"
     ]
    }
   ],
   "source": [
    "input_shape = (X_train.shape[1], X_train.shape[2], 1)\n",
    "model = build_model(input_shape, learning_rate=LEARNING_RATE)"
   ]
  },
  {
   "cell_type": "code",
   "execution_count": 19,
   "metadata": {},
   "outputs": [
    {
     "name": "stdout",
     "output_type": "stream",
     "text": [
      "(66, 44, 40, 1)\n",
      "(44, 40, 1)\n"
     ]
    }
   ],
   "source": [
    "print(X_train.shape)\n",
    "\n",
    "print(input_shape)"
   ]
  },
  {
   "cell_type": "code",
   "execution_count": 20,
   "metadata": {},
   "outputs": [
    {
     "name": "stdout",
     "output_type": "stream",
     "text": [
      "Epoch 1/100\n",
      "9/9 [==============================] - 3s 73ms/step - loss: 3.2770 - accuracy: 0.1212 - val_loss: 6.4827 - val_accuracy: 0.0000e+00\n",
      "Epoch 2/100\n",
      "9/9 [==============================] - 0s 27ms/step - loss: 1.7481 - accuracy: 0.3333 - val_loss: 3.0109 - val_accuracy: 0.2500\n",
      "Epoch 3/100\n",
      "9/9 [==============================] - 0s 29ms/step - loss: 1.1941 - accuracy: 0.5758 - val_loss: 2.1700 - val_accuracy: 0.2500\n",
      "Epoch 4/100\n",
      "9/9 [==============================] - 0s 28ms/step - loss: 0.9038 - accuracy: 0.6970 - val_loss: 1.9747 - val_accuracy: 0.3750\n",
      "Epoch 5/100\n",
      "9/9 [==============================] - 0s 27ms/step - loss: 0.6389 - accuracy: 0.8030 - val_loss: 1.8848 - val_accuracy: 0.5000\n",
      "Epoch 6/100\n",
      "9/9 [==============================] - 0s 28ms/step - loss: 0.5287 - accuracy: 0.8636 - val_loss: 1.7640 - val_accuracy: 0.5000\n",
      "Epoch 7/100\n",
      "9/9 [==============================] - 0s 31ms/step - loss: 0.5103 - accuracy: 0.8333 - val_loss: 1.5888 - val_accuracy: 0.5000\n",
      "Epoch 8/100\n",
      "9/9 [==============================] - 0s 28ms/step - loss: 0.4156 - accuracy: 0.9242 - val_loss: 1.4740 - val_accuracy: 0.5000\n",
      "Epoch 9/100\n",
      "9/9 [==============================] - 0s 27ms/step - loss: 0.3806 - accuracy: 0.9394 - val_loss: 1.4947 - val_accuracy: 0.5000\n",
      "Epoch 10/100\n",
      "9/9 [==============================] - 0s 28ms/step - loss: 0.3611 - accuracy: 0.9545 - val_loss: 1.5026 - val_accuracy: 0.5000\n",
      "Epoch 11/100\n",
      "9/9 [==============================] - 0s 27ms/step - loss: 0.3142 - accuracy: 0.9697 - val_loss: 1.4808 - val_accuracy: 0.5000\n",
      "Epoch 12/100\n",
      "9/9 [==============================] - 0s 28ms/step - loss: 0.3001 - accuracy: 0.9848 - val_loss: 1.4087 - val_accuracy: 0.5000\n",
      "Epoch 13/100\n",
      "9/9 [==============================] - 0s 29ms/step - loss: 0.2866 - accuracy: 0.9697 - val_loss: 1.3633 - val_accuracy: 0.5000\n",
      "Epoch 14/100\n",
      "9/9 [==============================] - 0s 32ms/step - loss: 0.2533 - accuracy: 0.9545 - val_loss: 1.3359 - val_accuracy: 0.5000\n",
      "Epoch 15/100\n",
      "9/9 [==============================] - 0s 27ms/step - loss: 0.2553 - accuracy: 0.9697 - val_loss: 1.2860 - val_accuracy: 0.5000\n"
     ]
    }
   ],
   "source": [
    "history = train(model, EPOCHS, BATCH_SIZE, PATIENCE, X_train, y_train, X_validation, y_validation)"
   ]
  },
  {
   "cell_type": "code",
   "execution_count": 21,
   "metadata": {},
   "outputs": [
    {
     "data": {
      "image/png": "[encoded data removed]",
      "text/plain": [
       "<Figure size 640x480 with 2 Axes>"
      ]
     },
     "metadata": {},
     "output_type": "display_data"
    },
    {
     "data": {
      "text/plain": [
       "<Figure size 500x1000 with 0 Axes>"
      ]
     },
     "metadata": {},
     "output_type": "display_data"
    }
   ],
   "source": [
    "plot_history(history)"
   ]
  },
  {
   "cell_type": "code",
   "execution_count": 22,
   "metadata": {},
   "outputs": [
    {
     "name": "stdout",
     "output_type": "stream",
     "text": [
      "1/1 [==============================] - 0s 250ms/step - loss: 1.6499 - accuracy: 0.4444\n"
     ]
    }
   ],
   "source": [
    "test_loss, test_acc = model.evaluate(X_test, y_test)"
   ]
  },
  {
   "cell_type": "code",
   "execution_count": 17,
   "metadata": {},
   "outputs": [
    {
     "data": {
      "text/plain": [
       "1.4639910459518433"
      ]
     },
     "execution_count": 17,
     "metadata": {},
     "output_type": "execute_result"
    }
   ],
   "source": [
    "test_loss"
   ]
  },
  {
   "cell_type": "code",
   "execution_count": 18,
   "metadata": {},
   "outputs": [
    {
     "data": {
      "text/plain": [
       "0.38461539149284363"
      ]
     },
     "execution_count": 18,
     "metadata": {},
     "output_type": "execute_result"
    }
   ],
   "source": [
    "test_acc"
   ]
  },
  {
   "cell_type": "code",
   "execution_count": 23,
   "metadata": {},
   "outputs": [],
   "source": [
    "model.save(SAVED_MODEL_PATH)"
   ]
  },
  {
   "attachments": {},
   "cell_type": "markdown",
   "metadata": {},
   "source": [
    "## Prediction \n"
   ]
  },
  {
   "cell_type": "code",
   "execution_count": 24,
   "metadata": {},
   "outputs": [],
   "source": [
    "#preprocess the input sample function\n",
    "def preprocess(file_path, num_mfcc=13, n_fft=2048, hop_length=512):\n",
    "        \"\"\"Extract MFCCs from audio file.\n",
    "        :param file_path (str): Path of audio file\n",
    "        :param num_mfcc (int): # of coefficients to extract\n",
    "        :param n_fft (int): Interval we consider to apply STFT. Measured in # of samples\n",
    "        :param hop_length (int): Sliding window for STFT. Measured in # of samples\n",
    "        :return MFCCs (ndarray): 2-dim array with MFCC data of shape (# time steps, # coefficients)\n",
    "        \"\"\"\n",
    "\n",
    "        # load audio file\n",
    "        signal, sample_rate = librosa.load(file_path)\n",
    "\n",
    "        if len(signal) >= panjang_sampel:\n",
    "            # ensure consistency of the length of the signal\n",
    "            signal = signal[:panjang_sampel]\n",
    "\n",
    "            # extract MFCCs\n",
    "            MFCCs = librosa.feature.mfcc(y=signal,sr=sample_rate,n_mfcc=40)\n",
    "\n",
    "        return MFCCs.T\n"
   ]
  },
  {
   "cell_type": "code",
   "execution_count": 25,
   "metadata": {},
   "outputs": [],
   "source": [
    "loaded=tf.keras.models.load_model(SAVED_MODEL_PATH)"
   ]
  },
  {
   "cell_type": "code",
   "execution_count": 26,
   "metadata": {},
   "outputs": [],
   "source": [
    "def predict(file_path):\n",
    "       \n",
    "        # extract MFCC\n",
    "        MFCCs = preprocess(file_path)\n",
    "\n",
    "        # we need a 4-dim array to feed to the model for prediction: (# samples, # time steps, # coefficients, 1)\n",
    "        MFCCs = MFCCs[np.newaxis, ..., np.newaxis]\n",
    "\n",
    "        # get the predicted label\n",
    "        predictions = loaded.predict(MFCCs)\n",
    "\n",
    "        return predictions"
   ]
  },
  {
   "cell_type": "code",
   "execution_count": 27,
   "metadata": {},
   "outputs": [
    {
     "name": "stdout",
     "output_type": "stream",
     "text": [
      "1/1 [==============================] - 0s 251ms/step\n"
     ]
    },
    {
     "data": {
      "text/plain": [
       "array([[0.15914807, 0.53325284, 0.08405821, 0.22354086]], dtype=float32)"
      ]
     },
     "execution_count": 27,
     "metadata": {},
     "output_type": "execute_result"
    }
   ],
   "source": [
    "res=predict(\"dataset/train/physical/man-scream-03.wav\")\n",
    "res"
   ]
  },
  {
   "cell_type": "code",
   "execution_count": 28,
   "metadata": {},
   "outputs": [
    {
     "name": "stdout",
     "output_type": "stream",
     "text": [
      "Prediksi Kekerasan: \n",
      "\n",
      "Domestik: 15.914806723594666%\n",
      "Physical: 53.32528352737427%\n"
     ]
    }
   ],
   "source": [
    "print(\"Prediksi Kekerasan: \\n\")\n",
    "print(\"Domestik: \"+str(res[0,0]*100)+\"%\")\n",
    "print(\"Physical: \"+str(res[0,1]*100)+\"%\")\n"
   ]
  }
 ],
 "metadata": {
  "kernelspec": {
   "display_name": "Python 3",
   "language": "python",
   "name": "python3"
  },
  "language_info": {
   "codemirror_mode": {
    "name": "ipython",
    "version": 3
   },
   "file_extension": ".py",
   "mimetype": "text/x-python",
   "name": "python",
   "nbconvert_exporter": "python",
   "pygments_lexer": "ipython3",
   "version": "3.11.4"
  },
  "orig_nbformat": 2
 },
 "nbformat": 4,
 "nbformat_minor": 2
}
