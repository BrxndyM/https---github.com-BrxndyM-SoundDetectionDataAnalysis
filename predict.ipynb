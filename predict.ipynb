{
 "cells": [
  {
   "cell_type": "code",
   "execution_count": 2,
   "metadata": {},
   "outputs": [],
   "source": [
    "import librosa\n",
    "import tensorflow as tf\n",
    "import numpy as np\n",
    "\n",
    "SAVED_MODEL_PATH = \"training_mix_reajusted_input.h5\"\n",
    "panjang_sampel = 22050\n"
   ]
  },
  {
   "cell_type": "code",
   "execution_count": 3,
   "metadata": {},
   "outputs": [],
   "source": [
    "#preprocess the input sample function\n",
    "def preprocess(file_path, jumlah=13, fft=2048, hop=512):\n",
    "        # load audio file\n",
    "        signal, sample_rate = librosa.load(file_path)\n",
    "\n",
    "        if len(signal) >= panjang_sampel:\n",
    "            # ensure consistency of the length of the signal\n",
    "            signal = signal[:panjang_sampel]\n",
    "\n",
    "            # extract MFCCs\n",
    "            mfcc = librosa.feature.mfcc(y=signal,sr=sample_rate,n_mfcc=40)\n",
    "\n",
    "        return mfcc.T\n"
   ]
  },
  {
   "cell_type": "code",
   "execution_count": 4,
   "metadata": {},
   "outputs": [],
   "source": [
    "loaded=tf.keras.models.load_model(SAVED_MODEL_PATH)"
   ]
  },
  {
   "cell_type": "code",
   "execution_count": 5,
   "metadata": {},
   "outputs": [],
   "source": [
    "def predict(file_path):\n",
    "       \n",
    "        # extract MFCC\n",
    "        mfcc = preprocess(file_path)\n",
    "\n",
    "        # we need a 4-dim array to feed to the model for prediction: (# samples, # time steps, # coefficients, 1)\n",
    "        mfcc = mfcc[np.newaxis, ..., np.newaxis]\n",
    "        print(mfcc.shape)\n",
    "\n",
    "        # get the predicted label\n",
    "        predictions = loaded.predict(mfcc)\n",
    "\n",
    "        return predictions"
   ]
  },
  {
   "cell_type": "code",
   "execution_count": 6,
   "metadata": {},
   "outputs": [
    {
     "name": "stdout",
     "output_type": "stream",
     "text": [
      "(1, 44, 40, 1)\n",
      "1/1 [==============================] - 0s 156ms/step\n"
     ]
    },
    {
     "data": {
      "text/plain": [
       "array([[0.14465454, 0.539465  , 0.28417102, 0.03170936]], dtype=float32)"
      ]
     },
     "execution_count": 6,
     "metadata": {},
     "output_type": "execute_result"
    }
   ],
   "source": [
    "res=predict(\"dataset/test/girl_scream-6465.mp3\")\n",
    "res"
   ]
  },
  {
   "cell_type": "code",
   "execution_count": 8,
   "metadata": {},
   "outputs": [
    {
     "name": "stdout",
     "output_type": "stream",
     "text": [
      "Prediksi Kekerasan: \n",
      "\n",
      "Domestik: 14.46545422077179%\n",
      "Fisik: 53.94650101661682%\n",
      "Seksual: 28.417101502418518%\n",
      "Penguntitan: 3.170936182141304%\n"
     ]
    }
   ],
   "source": [
    "print(\"Prediksi Kekerasan: \\n\")\n",
    "print(\"Domestik: \"+str(res[0,0]*100)+\"%\")\n",
    "print(\"Fisik: \"+str(res[0,1]*100)+\"%\")\n",
    "print(\"Seksual: \"+str(res[0,2]*100)+\"%\")\n",
    "print(\"Penguntitan: \"+str(res[0,3]*100)+\"%\")"
   ]
  }
 ],
 "metadata": {
  "kernelspec": {
   "display_name": "Python 3",
   "language": "python",
   "name": "python3"
  },
  "language_info": {
   "codemirror_mode": {
    "name": "ipython",
    "version": 3
   },
   "file_extension": ".py",
   "mimetype": "text/x-python",
   "name": "python",
   "nbconvert_exporter": "python",
   "pygments_lexer": "ipython3",
   "version": "3.10.6"
  },
  "orig_nbformat": 2
 },
 "nbformat": 4,
 "nbformat_minor": 2
}
